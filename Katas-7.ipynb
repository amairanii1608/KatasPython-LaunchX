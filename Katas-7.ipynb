{
  "cells": [
    {
      "cell_type": "code",
      "execution_count": 20,
      "metadata": {
        "colab": {
          "base_uri": "https://localhost:8080/"
        },
        "id": "aJBWXBkOWzQ_",
        "outputId": "a3aed9d7-4344-4cd3-be2f-6b44980aa3b3"
      },
      "outputs": [
        {
          "name": "stdout",
          "output_type": "stream",
          "text": [
            "Ingrese el nuevo planetaPlutón\n",
            "[]\n",
            "Ingrese el nuevo planetaSaturn\n",
            "['Plutón']\n",
            "Ingrese el nuevo planetaMars\n",
            "['Plutón', 'Saturn']\n",
            "Ingrese el nuevo planetadone\n",
            "['Plutón', 'Saturn', 'Mars']\n"
          ]
        }
      ],
      "source": [
        "# Declara dos variables\n",
        "new_planet = \"\"\n",
        "planets= []\n",
        "# Escribe el ciclo while solicitado\n",
        "while new_planet != \"done\":\n",
        "    if new_planet:\n",
        "        planets.append(new_planet)\n",
        "    new_planet = input(\"Ingrese el nuevo planeta: \")\n",
        "    print(planets)\n"
      ]
    },
    {
      "cell_type": "code",
      "execution_count": 23,
      "metadata": {
        "colab": {
          "base_uri": "https://localhost:8080/"
        },
        "id": "F4lc6oidhHtw",
        "outputId": "3f3ba533-d675-4e98-fe3d-5263de2f7dcb"
      },
      "outputs": [
        {
          "name": "stdout",
          "output_type": "stream",
          "text": [
            "Plutón\n",
            "Saturn\n",
            "Mars\n"
          ]
        }
      ],
      "source": [
        "for j in planets:\n",
        "    print(j)"
      ]
    }
  ],
  "metadata": {
    "colab": {
      "name": "Katas2.ipynb",
      "provenance": []
    },
    "kernelspec": {
      "display_name": "Python 3",
      "name": "python3"
    },
    "language_info": {
      "name": "python"
    }
  },
  "nbformat": 4,
  "nbformat_minor": 0
}
