{
  "cells": [
    {
      "cell_type": "code",
      "execution_count": 38,
      "metadata": {
        "colab": {
          "base_uri": "https://localhost:8080/"
        },
        "id": "yNPXEFWElKAD",
        "outputId": "70a66a88-b2f3-4fd1-f36f-e9b803fcb15d"
      },
      "outputs": [
        {
          "name": "stdout",
          "output_type": "stream",
          "text": [
            "En total de los tanques de: Promedio de tanque: 82%, el tanque general \n",
            "contiene 80%, el tanque de hidrógero 85% y por último el tanque de oxígeno tiene niveles de 81%.\n",
            "\n",
            "Enn total de los tanques de: Promedio de tanque: 67%, el tanque general \n",
            "contiene 61%, el tanque de hidrógero 56% y por último el tanque de oxígeno tiene niveles de 84%. \n",
            "\n"
          ]
        }
      ],
      "source": [
        "# Función para leer 3 tanques de combustible y muestre el promedio.\n",
        "def tanq_combustible (tanque_general, tanque_hidrogeno, tanque_oxigeno):\n",
        "    tanque_tot = (tanque_general + tanque_hidrogeno + tanque_oxigeno) / 3\n",
        "    return f'''En total de los tanques de: Promedio de tanque: {round(tanque_tot)}%, el tanque general \n",
        "contiene {tanque_general}%, el tanque de hidrógero {tanque_hidrogeno}% y por último el tanque de oxígeno tiene niveles de {tanque_oxigeno}%.\n",
        "'''\n",
        "# Llamamos a la función que genera el reporte print(funcion(tanque1, tanque2, tanque3))\n",
        "print(tanq_combustible(80, 85, 81))\n",
        "# Función promedio \n",
        "def prom(valuesTanq):\n",
        "    suma = sum(valuesTanq)\n",
        "    num_tanques = len (valuesTanq)\n",
        "    return f'{round(suma / num_tanques)}%'\n",
        "\n",
        "prom((80, 85, 81)) \n",
        "def tanq_combustible (tanque_general, tanque_hidrogeno, tanque_oxigeno):\n",
        "    return f'''Enn total de los tanques de: Promedio de tanque: {prom([tanque_general, tanque_hidrogeno, tanque_oxigeno])}, el tanque general \n",
        "contiene {tanque_general}%, el tanque de hidrógero {tanque_hidrogeno}% y por último el tanque de oxígeno tiene niveles de {tanque_oxigeno}%. \n",
        "'''\n",
        "print(tanq_combustible(61,56,84))"
      ]
    },
    {
      "cell_type": "code",
      "execution_count": 39,
      "metadata": {
        "colab": {
          "base_uri": "https://localhost:8080/"
        },
        "id": "mgHMYmb-rlWJ",
        "outputId": "c5412965-b3e0-45f8-9025-e83146db9c21"
      },
      "outputs": [
        {
          "name": "stdout",
          "output_type": "stream",
          "text": [
            "Registro de misión a: Neptune con duración de: 54.166666666666664 \n",
            "minutos y un tanque de: 450000\n"
          ]
        }
      ],
      "source": [
        "# Función con un informe preciso de la misión. Considera hora de prelanzamiento, tiempo de vuelo, destino, tanque externo y tanque interno.\n",
        "def mision (prelanz, tiempo_vuelo, destino, tanque_externo, tanque_interno):\n",
        "    return f'''Registro de misión a: {destino} con duración de: {(prelanz/60)  + tiempo_vuelo} \n",
        "minutos y un tanque de: {tanque_externo + tanque_interno}'''\n",
        "\n",
        "print(mision(10, 54, 'Neptune',200000, 250000))\n",
        "# Escribe tu nueva función de reporte considerando lo anterior\n",
        "# Escribe tu nueva función"
      ]
    },
    {
      "cell_type": "code",
      "execution_count": 40,
      "metadata": {
        "colab": {
          "base_uri": "https://localhost:8080/"
        },
        "id": "0tyf99p5tS45",
        "outputId": "3f93a52c-457b-4a8d-84d8-fd780ebf158a"
      },
      "outputs": [
        {
          "name": "stdout",
          "output_type": "stream",
          "text": [
            "Registro de misión a: Marte, con tiempo total de viaje de 127 minutos y\n",
            "combutible de los tanques disponible de: 150000\n",
            "\n"
          ]
        }
      ],
      "source": [
        "# Escribe tu nueva función de reporte considerando lo anterior\n",
        "def mision ( destino,*minutos, **tanqueReserva):\n",
        "    return f'''Registro de misión a: {destino}, con tiempo total de viaje de {sum(minutos)} minutos y\n",
        "combustible de los tanques disponible de: {sum(tanqueReserva.values())}\n",
        "'''\n",
        "\n",
        "print(mision(\"Neptune\",50,33,44, main=50000, externo=100000))"
      ]
    },
    {
      "cell_type": "code",
      "execution_count": 43,
      "metadata": {
        "colab": {
          "base_uri": "https://localhost:8080/"
        },
        "id": "Yw-4c4CVuWzR",
        "outputId": "f6ae09e6-3059-4268-d275-8a13657a2b46"
      },
      "outputs": [
        {
          "name": "stdout",
          "output_type": "stream",
          "text": [
            "Registro de misión a: Neptune, con tiempo total de viaje de 127 minutos y\n",
            "combustible de los tanques disponible de: 150000\n",
            "main tanque contiene: 50000 galones disponibles\n",
            "\n"
          ]
        }
      ],
      "source": [
        "# Escribe tu nueva función\n",
        "# Escribe tu nueva función de reporte considerando lo anterior\n",
        "def mision ( destino,*minutos, **tanqueReserva):\n",
        "    infoo = f'''Registro de misión a: {destino}, con tiempo total de viaje de {sum(minutos)} minutos y\n",
        "combustible de los tanques disponible de: {sum(tanqueReserva.values())}\n",
        "'''\n",
        "    for tanqueN, galon in tanqueReserva.items(): \n",
        "        infoo += f\"{tanqueN} tanque contiene: {galon} galones disponibles\\n\"\n",
        "        return infoo\n",
        "        \n",
        "print(mision(\"Neptune\",50,33,44, main=50000, externo=100000))   "
      ]
    }
  ],
  "metadata": {
    "colab": {
      "name": "Katas2.ipynb",
      "provenance": []
    },
    "kernelspec": {
      "display_name": "Python 3",
      "name": "python3"
    },
    "language_info": {
      "name": "python"
    }
  },
  "nbformat": 4,
  "nbformat_minor": 0
}
