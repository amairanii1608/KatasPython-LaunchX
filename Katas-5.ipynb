{
  "cells": [
    {
      "cell_type": "code",
      "execution_count": 7,
      "metadata": {
        "colab": {
          "base_uri": "https://localhost:8080/"
        },
        "id": "uL_MkMMADg0d",
        "outputId": "c182610b-c305-4e5d-fbad-a96f5c1b5b40"
      },
      "outputs": [
        {
          "name": "stdout",
          "output_type": "stream",
          "text": [
            "La distancia que existe entre la Tierra es de: 628949330.0 km o 390577533.93 millas\n"
          ]
        }
      ],
      "source": [
        "# Crear variables para almacenar las dos distancias\n",
        "# ¡Asegúrate de quitar las comas!\n",
        "# Calcular la distancia entre planetas\n",
        "Tierra=149597870\n",
        "Jupiter=778547200\n",
        "Planetas = (Jupiter-Tierra) * 0.621\n",
        "print(f\"La distancia que existe entre la Tierra es de: {Planetas/0.621} km o {Planetas} millas\")"
      ]
    },
    {
      "cell_type": "code",
      "execution_count": 9,
      "metadata": {
        "colab": {
          "base_uri": "https://localhost:8080/"
        },
        "id": "Kq97LnQYH_hE",
        "outputId": "7779f95b-4b0e-4a97-f76f-287f4a5558c5"
      },
      "outputs": [
        {
          "name": "stdout",
          "output_type": "stream",
          "text": [
            "Ingresa el nombre del primer planeta a calcular:Neptuno\n",
            "Ingresa el nombre del segundo planeta a calcular:Mercurio\n",
            "¿Cuál es la distancia del primer planeta? km:4495100000\n",
            "¿Cuál es la distancia del segundo planeta? km:57900000\n",
            "La distancia entre Neptuno con 4495100000 km de distancia al Sol, y Mercurio con 57900000 km de distancia al Sol es: 4437200000.0 km o 2755501200.0 millas\n"
          ]
        }
      ],
      "source": [
        "# Almacenar las entradas del usuario\n",
        "#Pista: variable = input(\"¿Cuál es tu nombre?\")\n",
        "# Convierte las cadenas de ambos planetas a números enteros\n",
        "# Realizar el cálculo y determinar el valor absoluto\n",
        "P1N= input(\"Ingresa el nombre del primer planeta a calcular:\")\n",
        "P2N= input(\"Ingresa el nombre del segundo planeta a calcular:\")\n",
        "P1 = input(\"¿Cuál es la distancia del primer planeta? km:\")\n",
        "P2 = input(\"¿Cuál es la distancia del segundo planeta? km:\")\n",
        "P1 = (int(P1))\n",
        "P2 = (int(P2))\n",
        "dPlaneta = (abs(P2-P1) * 0.621)\n",
        "# Convertir de KM a Millas\n",
        "print (f\"La distancia entre {P1N} con {P1} km de distancia al Sol, y {P2N} con {P2} km de distancia al Sol es: {dPlaneta/0.621} km o {dPlaneta} millas\")"
      ]
    }
  ],
  "metadata": {
    "colab": {
      "name": "Katas2.ipynb",
      "provenance": []
    },
    "kernelspec": {
      "display_name": "Python 3",
      "name": "python3"
    },
    "language_info": {
      "name": "python"
    }
  },
  "nbformat": 4,
  "nbformat_minor": 0
}
