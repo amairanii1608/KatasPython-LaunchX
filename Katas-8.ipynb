{
  "cells": [
    {
      "cell_type": "code",
      "execution_count": 26,
      "metadata": {
        "colab": {
          "base_uri": "https://localhost:8080/"
        },
        "id": "2aJqSSX5iGr5",
        "outputId": "c2156e9f-8c4f-4a7f-8cf2-8cf35f633154"
      },
      "outputs": [
        {
          "name": "stdout",
          "output_type": "stream",
          "text": [
            "The Mars has 2 moons\n"
          ]
        }
      ],
      "source": [
        "# Crea un diccionario llamado planet con los datos propuestos.\n",
        "planet = {\n",
        "    'name': 'Mars',\n",
        "    'moons': 2\n",
        "}\n",
        "# Muestra el nombre del planeta y el número de lunas que tiene.\n",
        "print(f'The {planet[\"name\"]} has {planet[\"moons\"]} moons')"
      ]
    },
    {
      "cell_type": "code",
      "execution_count": 27,
      "metadata": {
        "colab": {
          "base_uri": "https://localhost:8080/"
        },
        "id": "B54aKLfljUEC",
        "outputId": "bbfdff2b-251f-4db2-ab91-b708100f39e0"
      },
      "outputs": [
        {
          "name": "stdout",
          "output_type": "stream",
          "text": [
            " The Mars has a polar circumference of: 6752 km\n"
          ]
        }
      ],
      "source": [
        "# Agrega la clave circunferencia con los datos proporcionados previamente\n",
        "planet['circunferencia (km)'] = {\n",
        "    'polar': 6752,\n",
        "    'equatorial': 6792\n",
        "}\n",
        "# Imprime el nombre del planeta con su circunferencia polar.\n",
        "print(f\" The {planet['name']} has a polar circumference of: {planet['circunferencia (km)']['polar']} km\")"
      ]
    },
    {
      "cell_type": "code",
      "execution_count": 28,
      "metadata": {
        "colab": {
          "base_uri": "https://localhost:8080/"
        },
        "id": "hse7PziwkjMT",
        "outputId": "74cc8dd2-1871-455f-a382-88dc1c697d37"
      },
      "outputs": [
        {
          "name": "stdout",
          "output_type": "stream",
          "text": [
            "There are: 214 in the Solar System\n",
            "The average of moons are: 18\n"
          ]
        }
      ],
      "source": [
        "#Planets and moons\n",
        "planet_moons = {\n",
        "    'mercury': 0,\n",
        "    'venus': 0,\n",
        "    'earth': 1,\n",
        "    'mars': 2,\n",
        "    'jupiter': 79,\n",
        "    'saturn': 82,\n",
        "    'uranus': 27,\n",
        "    'neptune': 14,\n",
        "    'pluto': 5,\n",
        "    'haumea': 2,\n",
        "    'makemake': 1,\n",
        "    'eris': 1\n",
        "}\n",
        "# Añade el código para determinar el número de lunas.\n",
        "moons = planet_moons.values()\n",
        "planets = len(planet_moons.keys())\n",
        "# Agrega el código para contar el número de lunas. \n",
        "total_moons = 0\n",
        "for my_moon in moons:\n",
        "    total_moons = total_moons + my_moon\n",
        "print(f'''There are: {total_moons} in the Solar System''')\n",
        "\n",
        "average_moons = total_moons / planets\n",
        "print(f'''The average of moons are: {round(average_moons)}''')\n",
        "    "
      ]
    }
  ],
  "metadata": {
    "colab": {
      "name": "Katas2.ipynb",
      "provenance": []
    },
    "kernelspec": {
      "display_name": "Python 3",
      "name": "python3"
    },
    "language_info": {
      "name": "python"
    }
  },
  "nbformat": 4,
  "nbformat_minor": 0
}
