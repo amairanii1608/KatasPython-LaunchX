{
  "cells": [
    {
      "cell_type": "code",
      "execution_count": 11,
      "metadata": {
        "colab": {
          "base_uri": "https://localhost:8080/"
        },
        "id": "ZpHhpOy9MZX9",
        "outputId": "4e665a98-64bc-4cee-d3fa-1f3d20781619"
      },
      "outputs": [
        {
          "name": "stdout",
          "output_type": "stream",
          "text": [
            "['Mercury', 'Venus', 'Earth', 'Mars', 'Jupiter', 'Saturn', 'Neptune', 'Plutón']\n"
          ]
        }
      ],
      "source": [
        "# Creamos la lista planets y la mostramos\n",
        "planets = ['Mercury', 'Venus', 'Earth', 'Mars', 'Jupiter', 'Saturn', 'Neptune']\n",
        "# Agregamos a plutón y mostramos el último elemento\n",
        "planets.append(\"Plutón\")\n",
        "print(planets)"
      ]
    },
    {
      "cell_type": "code",
      "execution_count": 18,
      "metadata": {
        "colab": {
          "base_uri": "https://localhost:8080/"
        },
        "id": "sTQitSe4TiXo",
        "outputId": "2b7096ae-7578-4abc-fccb-a8e9ae5c3b0f"
      },
      "outputs": [
        {
          "name": "stdout",
          "output_type": "stream",
          "text": [
            "Ingrese el nombre de un planeta del sistema solar, iniciando con mayúscula la primer letra:Earth\n",
            "Los planetas más cercanos al Sol desde su elección (Earth), son:\n",
            "['Mercury', 'Venus']\n",
            "Los planetas más cercanos al sol desde su elección (Earth), son:\n",
            "['Mars', 'Jupiter', 'Saturn', 'Neptune', 'Plutón']\n"
          ]
        }
      ],
      "source": [
        "# Solicitamos el nombre de un planeta *Pista:  input()*\n",
        "PlanetN = input(\"Ingrese el nombre de un planeta del sistema solar, iniciando con mayúscula la primer letra:\")\n",
        "# Busca el planeta en la lista\n",
        "bPlanet = planets.index(PlanetN)\n",
        "# Muestra los planetas más cercanos al sol\n",
        "print(f\"Los planetas más cercanos al Sol desde su elección ({PlanetN}), son:\" )\n",
        "print(planets[0:bPlanet])\n",
        "# Muestra los planetas más lejanos al sol\n",
        "print(f\"Los planetas más cercanos al sol desde su elección ({PlanetN}), son:\" )\n",
        "print(planets[bPlanet + 1:])"
      ]
    }
  ],
  "metadata": {
    "colab": {
      "name": "Katas2.ipynb",
      "provenance": []
    },
    "kernelspec": {
      "display_name": "Python 3",
      "name": "python3"
    },
    "language_info": {
      "name": "python"
    }
  },
  "nbformat": 4,
  "nbformat_minor": 0
}
